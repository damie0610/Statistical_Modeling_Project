{
 "cells": [
  {
   "cell_type": "code",
   "execution_count": 1,
   "metadata": {
    "tags": []
   },
   "outputs": [],
   "source": [
    "# imports\n",
    "# Importing necessary libraries\n",
    "import pandas as pd\n",
    "import requests\n",
    "import json\n",
    "import os"
   ]
  },
  {
   "cell_type": "code",
   "execution_count": 4,
   "metadata": {
    "tags": []
   },
   "outputs": [],
   "source": [
    "# Accessing environmental variables\n",
    "yelp_key = os.environ.get('yelp_api')\n",
    "yelp_key2 = os.environ.get('yelp_api2')\n",
    "FOURSQUARE_KEY = os.environ.get('FOURSQUARE_API_KEY')"
   ]
  },
  {
   "cell_type": "code",
   "execution_count": 5,
   "metadata": {
    "tags": []
   },
   "outputs": [
    {
     "name": "stdout",
     "output_type": "stream",
     "text": [
      "<class 'pandas.core.frame.DataFrame'>\n",
      "RangeIndex: 233 entries, 0 to 232\n",
      "Data columns (total 6 columns):\n",
      " #   Column       Non-Null Count  Dtype  \n",
      "---  ------       --------------  -----  \n",
      " 0   ID           233 non-null    int64  \n",
      " 1   name         233 non-null    object \n",
      " 2   empty_slots  233 non-null    int64  \n",
      " 3   free_bikes   233 non-null    int64  \n",
      " 4   latitude     233 non-null    float64\n",
      " 5   longitude    233 non-null    float64\n",
      "dtypes: float64(2), int64(3), object(1)\n",
      "memory usage: 11.1+ KB\n"
     ]
    }
   ],
   "source": [
    "# Import ph_bikes to use latitude-longitude pairs\n",
    "\n",
    "# read in saved csv of philly bike stations.\n",
    "ph_bikes = pd.read_csv(\"C:/Users/HP/Music/LHLDataCourse/Python/project_data/ph_bikes.csv\")\n",
    "ph_bikes.info()"
   ]
  },
  {
   "cell_type": "markdown",
   "metadata": {
    "tags": []
   },
   "source": [
    "# Foursquare"
   ]
  },
  {
   "cell_type": "markdown",
   "metadata": {},
   "source": [
    "Send a request to Foursquare with a small radius (1000m) for all the bike stations in your city of choice. "
   ]
  },
  {
   "cell_type": "markdown",
   "metadata": {},
   "source": [
    "### POIs Selected - Colleges/Universities & Fitness-Related Businesses.\n",
    "#### *I aim to observe the impact, if any, of the proximity to the POIs on bike usage and so, when making the calls, I sort by distance and loop through the data to access the closest business for ech latitude-longitude pair.*\n",
    "\n",
    "- For the College/Uni POI, I remove radius limits since universities are not as commonly found as fitness centers but I maintain the radius of 1000 for fitness centers."
   ]
  },
  {
   "cell_type": "markdown",
   "metadata": {},
   "source": [
    "### Fitness POI"
   ]
  },
  {
   "cell_type": "code",
   "execution_count": 6,
   "metadata": {
    "tags": []
   },
   "outputs": [],
   "source": [
    "# Function created to make a call to foursquare.\n",
    "\n",
    "def get_fsq(latitude, longitude, radius, api_key, categories):\n",
    "\n",
    "    url = \"https://api.foursquare.com/v3/places/search\"\n",
    "\n",
    "    params = {\n",
    "        \"ll\": '{},{}'.format(latitude, longitude),\n",
    "        \"radius\": radius,\n",
    "        \"categories\": categories,\n",
    "        \"sort\": sort,\n",
    "        # \"limit\": 50\n",
    "    }\n",
    "\n",
    "    headers = {\n",
    "        \"Accept\": \"application/json\",\n",
    "        \"Authorization\": FOURSQUARE_KEY\n",
    "    }\n",
    "\n",
    "    response = requests.request(\"GET\", url, params=params, headers=headers)\n",
    "    return response.json() "
   ]
  },
  {
   "cell_type": "code",
   "execution_count": 8,
   "metadata": {
    "tags": []
   },
   "outputs": [],
   "source": [
    "# Testing the function\n",
    "from pprint import pprint\n",
    "\n",
    "# testing\n",
    "res = get_fsq(latitude=51.51, longitude=-0.1337, radius=1000, api_key=FOURSQUARE_KEY, categories=18000)\n",
    "# pprint(res)"
   ]
  },
  {
   "cell_type": "markdown",
   "metadata": {},
   "source": [
    "Parse through the response to get the POI (such as restaurants, bars, etc) details you want (ratings, name, location, etc)"
   ]
  },
  {
   "cell_type": "code",
   "execution_count": 15,
   "metadata": {},
   "outputs": [],
   "source": [
    "# Function to get distance from a location using a specific provider\n",
    "def get_location_distance(latitude, longitude, radius, api_key, categories, provider='foursquare'):\n",
    "    try:\n",
    "        if provider == 'foursquare':\n",
    "            location = get_fsq(latitude=latitude, longitude=longitude, radius=radius, api_key=api_key, categories=categories)\n",
    "        elif provider == 'yelp':\n",
    "            location = get_yelp(latitude=latitude, longitude=longitude, radius=radius, api_key=api_key, categories=categories)\n",
    "        else:\n",
    "            raise ValueError(\"Invalid provider. Supported providers: 'foursquare', 'yelp'\")\n",
    "\n",
    "        if provider == 'foursquare':\n",
    "            key = 'results'\n",
    "        elif provider == 'yelp':\n",
    "            key = 'businesses'\n",
    "        else:\n",
    "            key = None\n",
    "\n",
    "        if key and key in location and len(location[key]) > 0:\n",
    "            first_distance = location[key][0]['distance']\n",
    "            return first_distance\n",
    "        else:\n",
    "            # Handle cases where no locations are returned\n",
    "            return 'NA'\n",
    "    except Exception as e:\n",
    "        print(f\"An error occurred while fetching location data: {e}\")\n",
    "        return 'NA'"
   ]
  },
  {
   "cell_type": "code",
   "execution_count": 16,
   "metadata": {
    "tags": []
   },
   "outputs": [],
   "source": [
    "# assign values for fitness POI\n",
    "provider = 'foursquare'\n",
    "latitude = ph_bikes['latitude']\n",
    "longitude = ph_bikes['longitude']\n",
    "radius = 1000\n",
    "sort = \"distance\"\n",
    "categories = 18021  # sports and recreation > gym & studio"
   ]
  },
  {
   "cell_type": "code",
   "execution_count": 17,
   "metadata": {},
   "outputs": [],
   "source": [
    "# Iterating through each lat-lng pair\n",
    "fitness_loc = []\n",
    "\n",
    "for index, row in ph_bikes.iterrows():\n",
    "    lat = row['latitude']\n",
    "    lng = row['longitude']\n",
    "    distance = get_location_distance(lat, lng, radius=1000, api_key=FOURSQUARE_KEY, categories=categories, provider=provider)\n",
    "    fitness_loc.append(distance)"
   ]
  },
  {
   "cell_type": "code",
   "execution_count": 18,
   "metadata": {},
   "outputs": [],
   "source": [
    "# fitness_loc"
   ]
  },
  {
   "cell_type": "code",
   "execution_count": 19,
   "metadata": {
    "tags": []
   },
   "outputs": [
    {
     "data": {
      "text/plain": [
       "233"
      ]
     },
     "execution_count": 19,
     "metadata": {},
     "output_type": "execute_result"
    }
   ],
   "source": [
    "len(fitness_loc)"
   ]
  },
  {
   "cell_type": "markdown",
   "metadata": {},
   "source": [
    "Put your parsed results into a DataFrame"
   ]
  },
  {
   "cell_type": "code",
   "execution_count": 20,
   "metadata": {
    "tags": []
   },
   "outputs": [],
   "source": [
    "# Convert the data into a DataFrame and assign ID to aid when merging\n",
    "\n",
    "fsq_fit = pd.DataFrame(fitness_loc)\n",
    "fsq_fit = fsq_fit.rename_axis(\"ID\").reset_index()"
   ]
  },
  {
   "cell_type": "code",
   "execution_count": 21,
   "metadata": {
    "tags": []
   },
   "outputs": [
    {
     "data": {
      "text/html": [
       "<div>\n",
       "<style scoped>\n",
       "    .dataframe tbody tr th:only-of-type {\n",
       "        vertical-align: middle;\n",
       "    }\n",
       "\n",
       "    .dataframe tbody tr th {\n",
       "        vertical-align: top;\n",
       "    }\n",
       "\n",
       "    .dataframe thead th {\n",
       "        text-align: right;\n",
       "    }\n",
       "</style>\n",
       "<table border=\"1\" class=\"dataframe\">\n",
       "  <thead>\n",
       "    <tr style=\"text-align: right;\">\n",
       "      <th></th>\n",
       "      <th>ID</th>\n",
       "      <th>fsq_center_dist</th>\n",
       "    </tr>\n",
       "  </thead>\n",
       "  <tbody>\n",
       "    <tr>\n",
       "      <th>0</th>\n",
       "      <td>0</td>\n",
       "      <td>204</td>\n",
       "    </tr>\n",
       "    <tr>\n",
       "      <th>1</th>\n",
       "      <td>1</td>\n",
       "      <td>431</td>\n",
       "    </tr>\n",
       "    <tr>\n",
       "      <th>2</th>\n",
       "      <td>2</td>\n",
       "      <td>79</td>\n",
       "    </tr>\n",
       "    <tr>\n",
       "      <th>3</th>\n",
       "      <td>3</td>\n",
       "      <td>142</td>\n",
       "    </tr>\n",
       "    <tr>\n",
       "      <th>4</th>\n",
       "      <td>4</td>\n",
       "      <td>729</td>\n",
       "    </tr>\n",
       "  </tbody>\n",
       "</table>\n",
       "</div>"
      ],
      "text/plain": [
       "   ID fsq_center_dist\n",
       "0   0             204\n",
       "1   1             431\n",
       "2   2              79\n",
       "3   3             142\n",
       "4   4             729"
      ]
     },
     "execution_count": 21,
     "metadata": {},
     "output_type": "execute_result"
    }
   ],
   "source": [
    "# Renaming the columns\n",
    "\n",
    "fsq_fit.columns = [\"ID\", \"fsq_center_dist\"]\n",
    "fsq_fit.head()"
   ]
  },
  {
   "cell_type": "code",
   "execution_count": 40,
   "metadata": {
    "tags": []
   },
   "outputs": [],
   "source": [
    "# saving dataframes to csv files.\n",
    "def save_dataframe_to_csv(dataframe, file_path, index=False):\n",
    "    try:\n",
    "        dataframe.to_csv(file_path, index=index)\n",
    "        print(f\"DataFrame successfully saved to {file_path}\")\n",
    "    except Exception as e:\n",
    "        print(f\"An error occurred while saving the DataFrame to a CSV file: {e}\")"
   ]
  },
  {
   "cell_type": "code",
   "execution_count": 41,
   "metadata": {
    "tags": []
   },
   "outputs": [
    {
     "name": "stdout",
     "output_type": "stream",
     "text": [
      "DataFrame successfully saved to fsq_fit.csv\n"
     ]
    }
   ],
   "source": [
    "save_dataframe_to_csv(fsq_fit, 'fsq_fit.csv')"
   ]
  },
  {
   "cell_type": "markdown",
   "metadata": {},
   "source": [
    "###\n",
    "### College POI"
   ]
  },
  {
   "cell_type": "markdown",
   "metadata": {
    "tags": []
   },
   "source": [
    "Parse through the response to get the POI (such as restaurants, bars, etc) details you want (ratings, name, location, etc)"
   ]
  },
  {
   "cell_type": "code",
   "execution_count": 24,
   "metadata": {
    "tags": []
   },
   "outputs": [],
   "source": [
    "# assign values for collegeuniv POI\n",
    "provider = 'foursquare'\n",
    "latitude = ph_bikes['latitude']\n",
    "longitude = ph_bikes['longitude']\n",
    "radius = None\n",
    "sort = \"distance\"\n",
    "categories = 12013 # college and university"
   ]
  },
  {
   "cell_type": "code",
   "execution_count": 25,
   "metadata": {
    "tags": []
   },
   "outputs": [],
   "source": [
    "# Iterating through each lat-lng pair\n",
    "college_loc = []\n",
    "\n",
    "for index, row in ph_bikes.iterrows():\n",
    "    lat = row['latitude']\n",
    "    lng = row['longitude']\n",
    "    distance = get_location_distance(lat, lng, radius=1000, api_key=FOURSQUARE_KEY, categories=categories, provider=provider)\n",
    "    college_loc.append(distance)"
   ]
  },
  {
   "cell_type": "code",
   "execution_count": 26,
   "metadata": {
    "tags": []
   },
   "outputs": [
    {
     "data": {
      "text/plain": [
       "233"
      ]
     },
     "execution_count": 26,
     "metadata": {},
     "output_type": "execute_result"
    }
   ],
   "source": [
    "len(college_loc)"
   ]
  },
  {
   "cell_type": "markdown",
   "metadata": {},
   "source": [
    "Put your parsed results into a DataFrame"
   ]
  },
  {
   "cell_type": "code",
   "execution_count": 27,
   "metadata": {
    "tags": []
   },
   "outputs": [],
   "source": [
    "# Convert the data into a DataFrame and assign ID to aid when merging\n",
    "\n",
    "fsq_uni = pd.DataFrame(college_loc)\n",
    "fsq_uni = fsq_uni.rename_axis(\"ID\").reset_index()"
   ]
  },
  {
   "cell_type": "code",
   "execution_count": 28,
   "metadata": {
    "tags": []
   },
   "outputs": [
    {
     "data": {
      "text/html": [
       "<div>\n",
       "<style scoped>\n",
       "    .dataframe tbody tr th:only-of-type {\n",
       "        vertical-align: middle;\n",
       "    }\n",
       "\n",
       "    .dataframe tbody tr th {\n",
       "        vertical-align: top;\n",
       "    }\n",
       "\n",
       "    .dataframe thead th {\n",
       "        text-align: right;\n",
       "    }\n",
       "</style>\n",
       "<table border=\"1\" class=\"dataframe\">\n",
       "  <thead>\n",
       "    <tr style=\"text-align: right;\">\n",
       "      <th></th>\n",
       "      <th>ID</th>\n",
       "      <th>fsq_college_dist</th>\n",
       "    </tr>\n",
       "  </thead>\n",
       "  <tbody>\n",
       "    <tr>\n",
       "      <th>0</th>\n",
       "      <td>0</td>\n",
       "      <td>272</td>\n",
       "    </tr>\n",
       "    <tr>\n",
       "      <th>1</th>\n",
       "      <td>1</td>\n",
       "      <td>280</td>\n",
       "    </tr>\n",
       "    <tr>\n",
       "      <th>2</th>\n",
       "      <td>2</td>\n",
       "      <td>952</td>\n",
       "    </tr>\n",
       "    <tr>\n",
       "      <th>3</th>\n",
       "      <td>3</td>\n",
       "      <td>526</td>\n",
       "    </tr>\n",
       "    <tr>\n",
       "      <th>4</th>\n",
       "      <td>4</td>\n",
       "      <td>796</td>\n",
       "    </tr>\n",
       "  </tbody>\n",
       "</table>\n",
       "</div>"
      ],
      "text/plain": [
       "   ID fsq_college_dist\n",
       "0   0              272\n",
       "1   1              280\n",
       "2   2              952\n",
       "3   3              526\n",
       "4   4              796"
      ]
     },
     "execution_count": 28,
     "metadata": {},
     "output_type": "execute_result"
    }
   ],
   "source": [
    "# Renaming the columns\n",
    "\n",
    "fsq_uni.columns = [\"ID\", \"fsq_college_dist\"]\n",
    "fsq_uni.head()"
   ]
  },
  {
   "cell_type": "code",
   "execution_count": 29,
   "metadata": {
    "tags": []
   },
   "outputs": [
    {
     "name": "stdout",
     "output_type": "stream",
     "text": [
      "DataFrame successfully saved to fsq_uni.csv\n"
     ]
    }
   ],
   "source": [
    "save_dataframe_to_csv(fsq_uni, 'fsq_uni.csv')"
   ]
  },
  {
   "cell_type": "markdown",
   "metadata": {},
   "source": [
    "# \n",
    "# Yelp"
   ]
  },
  {
   "cell_type": "markdown",
   "metadata": {},
   "source": [
    "Send a request to Yelp with a small radius (1000m) for all the bike stations in your city of choice. "
   ]
  },
  {
   "cell_type": "code",
   "execution_count": 30,
   "metadata": {
    "tags": []
   },
   "outputs": [],
   "source": [
    "# Function for API call to Yelp\n",
    "\n",
    "def get_yelp(latitude, longitude, radius, api_key, categories):\n",
    "    url = \"https://api.yelp.com/v3/businesses/search\"\n",
    "\n",
    "    headers = {\n",
    "        \"accept\": \"application/json\",\n",
    "        \"Authorization\": yelp_key\n",
    "    }\n",
    "\n",
    "    params = {\n",
    "        \"latitude\": latitude,\n",
    "        \"longitude\": longitude,\n",
    "        \"categories\": categories,\n",
    "        \"sort_by\": sort_by\n",
    "    }\n",
    "\n",
    "    response = requests.get(url, headers=headers, params=params)\n",
    "\n",
    "    return response.json()"
   ]
  },
  {
   "cell_type": "code",
   "execution_count": 36,
   "metadata": {
    "tags": []
   },
   "outputs": [],
   "source": [
    "test = get_yelp(latitude=39.97195, longitude=-75.13445, radius=None, api_key=yelp_key, categories=\"fitness\")\n",
    "# pprint(test)"
   ]
  },
  {
   "cell_type": "markdown",
   "metadata": {},
   "source": [
    "### Fitness POI"
   ]
  },
  {
   "cell_type": "code",
   "execution_count": 31,
   "metadata": {
    "tags": []
   },
   "outputs": [],
   "source": [
    "# assign values for fitness POI using distance\n",
    "provider = 'yelp'\n",
    "latitude = ph_bikes['latitude']\n",
    "longitude = ph_bikes['longitude']\n",
    "categories = \"fitness\"\n",
    "sort_by = \"distance\""
   ]
  },
  {
   "cell_type": "markdown",
   "metadata": {},
   "source": [
    "Parse through the response to get the POI (such as restaurants, bars, etc) details you want (ratings, name, location, etc)"
   ]
  },
  {
   "cell_type": "code",
   "execution_count": 32,
   "metadata": {
    "tags": []
   },
   "outputs": [],
   "source": [
    "# Iterating through each lat-lng pair\n",
    "fitness_loc = []\n",
    "\n",
    "for index, row in ph_bikes.iterrows():\n",
    "    lat = row['latitude']\n",
    "    lng = row['longitude']\n",
    "    distance = get_location_distance(lat, lng, radius=1000, api_key=yelp_key, categories=categories, provider=provider)\n",
    "    fitness_loc.append(distance)"
   ]
  },
  {
   "cell_type": "code",
   "execution_count": 33,
   "metadata": {
    "tags": []
   },
   "outputs": [
    {
     "data": {
      "text/plain": [
       "233"
      ]
     },
     "execution_count": 33,
     "metadata": {},
     "output_type": "execute_result"
    }
   ],
   "source": [
    "len(fitness_loc)"
   ]
  },
  {
   "cell_type": "markdown",
   "metadata": {},
   "source": [
    "Put your parsed results into a DataFrame"
   ]
  },
  {
   "cell_type": "code",
   "execution_count": 34,
   "metadata": {
    "tags": []
   },
   "outputs": [],
   "source": [
    "# Convert the data into a DataFrame and assign ID to aid when merging\n",
    "\n",
    "yelp_fit = pd.DataFrame(fitness_loc)\n",
    "yelp_fit = yelp_fit.rename_axis(\"ID\").reset_index()"
   ]
  },
  {
   "cell_type": "code",
   "execution_count": 35,
   "metadata": {
    "tags": []
   },
   "outputs": [
    {
     "data": {
      "text/html": [
       "<div>\n",
       "<style scoped>\n",
       "    .dataframe tbody tr th:only-of-type {\n",
       "        vertical-align: middle;\n",
       "    }\n",
       "\n",
       "    .dataframe tbody tr th {\n",
       "        vertical-align: top;\n",
       "    }\n",
       "\n",
       "    .dataframe thead th {\n",
       "        text-align: right;\n",
       "    }\n",
       "</style>\n",
       "<table border=\"1\" class=\"dataframe\">\n",
       "  <thead>\n",
       "    <tr style=\"text-align: right;\">\n",
       "      <th></th>\n",
       "      <th>ID</th>\n",
       "      <th>yelp_center_dist</th>\n",
       "    </tr>\n",
       "  </thead>\n",
       "  <tbody>\n",
       "    <tr>\n",
       "      <th>0</th>\n",
       "      <td>0</td>\n",
       "      <td>206.798597</td>\n",
       "    </tr>\n",
       "    <tr>\n",
       "      <th>1</th>\n",
       "      <td>1</td>\n",
       "      <td>130.753256</td>\n",
       "    </tr>\n",
       "    <tr>\n",
       "      <th>2</th>\n",
       "      <td>2</td>\n",
       "      <td>794.358688</td>\n",
       "    </tr>\n",
       "    <tr>\n",
       "      <th>3</th>\n",
       "      <td>3</td>\n",
       "      <td>165.841893</td>\n",
       "    </tr>\n",
       "    <tr>\n",
       "      <th>4</th>\n",
       "      <td>4</td>\n",
       "      <td>711.265245</td>\n",
       "    </tr>\n",
       "  </tbody>\n",
       "</table>\n",
       "</div>"
      ],
      "text/plain": [
       "   ID  yelp_center_dist\n",
       "0   0        206.798597\n",
       "1   1        130.753256\n",
       "2   2        794.358688\n",
       "3   3        165.841893\n",
       "4   4        711.265245"
      ]
     },
     "execution_count": 35,
     "metadata": {},
     "output_type": "execute_result"
    }
   ],
   "source": [
    "# Renaming the columns\n",
    "\n",
    "yelp_fit.columns = [\"ID\", \"yelp_center_dist\"]\n",
    "yelp_fit.head()"
   ]
  },
  {
   "cell_type": "code",
   "execution_count": 37,
   "metadata": {
    "tags": []
   },
   "outputs": [
    {
     "name": "stdout",
     "output_type": "stream",
     "text": [
      "DataFrame successfully saved to yelp_fit.csv\n"
     ]
    }
   ],
   "source": [
    "save_dataframe_to_csv(yelp_fit, 'yelp_fit.csv')"
   ]
  },
  {
   "cell_type": "markdown",
   "metadata": {},
   "source": [
    "### \n",
    "### College POI"
   ]
  },
  {
   "cell_type": "markdown",
   "metadata": {},
   "source": [
    "Parse through the response to get the POI (such as restaurants, bars, etc) details you want (ratings, name, location, etc)"
   ]
  },
  {
   "cell_type": "code",
   "execution_count": 38,
   "metadata": {
    "tags": []
   },
   "outputs": [],
   "source": [
    "# assign values for college POI\n",
    "provider = 'yelp'\n",
    "latitude = ph_bikes['latitude']\n",
    "longitude = ph_bikes['longitude']\n",
    "categories = \"collegeuniv\"\n",
    "sort_by = \"distance\""
   ]
  },
  {
   "cell_type": "code",
   "execution_count": 39,
   "metadata": {
    "tags": []
   },
   "outputs": [],
   "source": [
    "# Iterating through each lat-lng pair\n",
    "college_dist = []\n",
    "\n",
    "for index, row in ph_bikes.iterrows():\n",
    "    lat = row['latitude']\n",
    "    lng = row['longitude']\n",
    "    distance = get_location_distance(lat, lng, radius=1000, api_key=yelp_key2, categories=categories, provider=provider)\n",
    "    college_dist.append(distance)"
   ]
  },
  {
   "cell_type": "code",
   "execution_count": 48,
   "metadata": {
    "tags": []
   },
   "outputs": [
    {
     "data": {
      "text/plain": [
       "233"
      ]
     },
     "execution_count": 48,
     "metadata": {},
     "output_type": "execute_result"
    }
   ],
   "source": [
    "len(college_dist)"
   ]
  },
  {
   "cell_type": "markdown",
   "metadata": {},
   "source": [
    "Put your parsed results into a DataFrame"
   ]
  },
  {
   "cell_type": "code",
   "execution_count": 42,
   "metadata": {
    "tags": []
   },
   "outputs": [],
   "source": [
    "# Convert the data into a DataFrame and assign ID to aid when merging\n",
    "\n",
    "yelp_uni = pd.DataFrame(college_dist)\n",
    "yelp_uni = yelp_uni.rename_axis(\"ID\").reset_index()"
   ]
  },
  {
   "cell_type": "code",
   "execution_count": 43,
   "metadata": {
    "tags": []
   },
   "outputs": [
    {
     "data": {
      "text/html": [
       "<div>\n",
       "<style scoped>\n",
       "    .dataframe tbody tr th:only-of-type {\n",
       "        vertical-align: middle;\n",
       "    }\n",
       "\n",
       "    .dataframe tbody tr th {\n",
       "        vertical-align: top;\n",
       "    }\n",
       "\n",
       "    .dataframe thead th {\n",
       "        text-align: right;\n",
       "    }\n",
       "</style>\n",
       "<table border=\"1\" class=\"dataframe\">\n",
       "  <thead>\n",
       "    <tr style=\"text-align: right;\">\n",
       "      <th></th>\n",
       "      <th>ID</th>\n",
       "      <th>yelp_college_dist</th>\n",
       "    </tr>\n",
       "  </thead>\n",
       "  <tbody>\n",
       "    <tr>\n",
       "      <th>0</th>\n",
       "      <td>0</td>\n",
       "      <td>1331.446597</td>\n",
       "    </tr>\n",
       "    <tr>\n",
       "      <th>1</th>\n",
       "      <td>1</td>\n",
       "      <td>1706.096309</td>\n",
       "    </tr>\n",
       "    <tr>\n",
       "      <th>2</th>\n",
       "      <td>2</td>\n",
       "      <td>2282.529810</td>\n",
       "    </tr>\n",
       "    <tr>\n",
       "      <th>3</th>\n",
       "      <td>3</td>\n",
       "      <td>1808.390164</td>\n",
       "    </tr>\n",
       "    <tr>\n",
       "      <th>4</th>\n",
       "      <td>4</td>\n",
       "      <td>2707.043477</td>\n",
       "    </tr>\n",
       "  </tbody>\n",
       "</table>\n",
       "</div>"
      ],
      "text/plain": [
       "   ID  yelp_college_dist\n",
       "0   0        1331.446597\n",
       "1   1        1706.096309\n",
       "2   2        2282.529810\n",
       "3   3        1808.390164\n",
       "4   4        2707.043477"
      ]
     },
     "execution_count": 43,
     "metadata": {},
     "output_type": "execute_result"
    }
   ],
   "source": [
    "# Renaming the columns\n",
    "\n",
    "yelp_uni.columns = [\"ID\", \"yelp_college_dist\"]\n",
    "yelp_uni.head()"
   ]
  },
  {
   "cell_type": "code",
   "execution_count": 44,
   "metadata": {
    "tags": []
   },
   "outputs": [
    {
     "name": "stdout",
     "output_type": "stream",
     "text": [
      "DataFrame successfully saved to yelp_uni.csv\n"
     ]
    }
   ],
   "source": [
    "save_dataframe_to_csv(yelp_uni, 'yelp_uni.csv')"
   ]
  },
  {
   "cell_type": "markdown",
   "metadata": {},
   "source": [
    "# \n",
    "# Comparing Results"
   ]
  },
  {
   "cell_type": "markdown",
   "metadata": {},
   "source": [
    "Which API provided you with more complete data? Provide an explanation. "
   ]
  },
  {
   "cell_type": "markdown",
   "metadata": {},
   "source": [
    "#### *Comparing one lat-lng point for restaurants on the Yelp and Foursquare API*"
   ]
  },
  {
   "cell_type": "code",
   "execution_count": 45,
   "metadata": {
    "tags": []
   },
   "outputs": [],
   "source": [
    "# restaurant testing - Foursquare\n",
    "sort = \"relevance\"\n",
    "\n",
    "fsq_res = get_fsq(latitude=39.97195, longitude=-75.13445, radius=1000, api_key=FOURSQUARE_KEY, categories=13065)\n",
    "# pprint(fsq_res)\n",
    "\n",
    "# no info on ratings"
   ]
  },
  {
   "cell_type": "code",
   "execution_count": 46,
   "metadata": {
    "tags": []
   },
   "outputs": [
    {
     "name": "stdout",
     "output_type": "stream",
     "text": [
      "<class 'pandas.core.frame.DataFrame'>\n",
      "RangeIndex: 10 entries, 0 to 9\n",
      "Data columns (total 25 columns):\n",
      " #   Column                         Non-Null Count  Dtype  \n",
      "---  ------                         --------------  -----  \n",
      " 0   fsq_id                         10 non-null     object \n",
      " 1   categories                     10 non-null     object \n",
      " 2   chains                         10 non-null     object \n",
      " 3   distance                       10 non-null     int64  \n",
      " 4   link                           10 non-null     object \n",
      " 5   name                           10 non-null     object \n",
      " 6   timezone                       10 non-null     object \n",
      " 7   geocodes.main.latitude         10 non-null     float64\n",
      " 8   geocodes.main.longitude        10 non-null     float64\n",
      " 9   geocodes.roof.latitude         10 non-null     float64\n",
      " 10  geocodes.roof.longitude        10 non-null     float64\n",
      " 11  location.address               10 non-null     object \n",
      " 12  location.census_block          10 non-null     object \n",
      " 13  location.country               10 non-null     object \n",
      " 14  location.cross_street          10 non-null     object \n",
      " 15  location.dma                   10 non-null     object \n",
      " 16  location.formatted_address     10 non-null     object \n",
      " 17  location.locality              10 non-null     object \n",
      " 18  location.postcode              10 non-null     object \n",
      " 19  location.region                10 non-null     object \n",
      " 20  geocodes.drop_off.latitude     7 non-null      float64\n",
      " 21  geocodes.drop_off.longitude    7 non-null      float64\n",
      " 22  related_places.children        2 non-null      object \n",
      " 23  geocodes.front_door.latitude   1 non-null      float64\n",
      " 24  geocodes.front_door.longitude  1 non-null      float64\n",
      "dtypes: float64(8), int64(1), object(16)\n",
      "memory usage: 2.1+ KB\n",
      "None\n",
      "(10, 25)\n"
     ]
    }
   ],
   "source": [
    "fsq_df = pd.json_normalize(fsq_res['results'])\n",
    "print(fsq_df.info())\n",
    "print(fsq_df.shape)"
   ]
  },
  {
   "cell_type": "code",
   "execution_count": 47,
   "metadata": {
    "tags": []
   },
   "outputs": [],
   "source": [
    "# restaurant testing - Yelp\n",
    "sort_by = \"best_match\"\n",
    "\n",
    "yelp_res = get_yelp(latitude=39.97195, longitude=-75.13445, radius=None, api_key=yelp_key, categories=\"restaurants\")\n",
    "# pprint(yelp_res)"
   ]
  },
  {
   "cell_type": "code",
   "execution_count": 48,
   "metadata": {
    "tags": []
   },
   "outputs": [
    {
     "name": "stdout",
     "output_type": "stream",
     "text": [
      "<class 'pandas.core.frame.DataFrame'>\n",
      "RangeIndex: 20 entries, 0 to 19\n",
      "Data columns (total 24 columns):\n",
      " #   Column                    Non-Null Count  Dtype  \n",
      "---  ------                    --------------  -----  \n",
      " 0   id                        20 non-null     object \n",
      " 1   alias                     20 non-null     object \n",
      " 2   name                      20 non-null     object \n",
      " 3   image_url                 20 non-null     object \n",
      " 4   is_closed                 20 non-null     bool   \n",
      " 5   url                       20 non-null     object \n",
      " 6   review_count              20 non-null     int64  \n",
      " 7   categories                20 non-null     object \n",
      " 8   rating                    20 non-null     float64\n",
      " 9   transactions              20 non-null     object \n",
      " 10  price                     18 non-null     object \n",
      " 11  phone                     20 non-null     object \n",
      " 12  display_phone             20 non-null     object \n",
      " 13  distance                  20 non-null     float64\n",
      " 14  coordinates.latitude      20 non-null     float64\n",
      " 15  coordinates.longitude     20 non-null     float64\n",
      " 16  location.address1         20 non-null     object \n",
      " 17  location.address2         13 non-null     object \n",
      " 18  location.address3         14 non-null     object \n",
      " 19  location.city             20 non-null     object \n",
      " 20  location.zip_code         20 non-null     object \n",
      " 21  location.country          20 non-null     object \n",
      " 22  location.state            20 non-null     object \n",
      " 23  location.display_address  20 non-null     object \n",
      "dtypes: bool(1), float64(4), int64(1), object(18)\n",
      "memory usage: 3.7+ KB\n",
      "None\n",
      "(20, 24)\n"
     ]
    }
   ],
   "source": [
    "yelp_df = pd.json_normalize(yelp_res['businesses'])\n",
    "print(yelp_df.info())\n",
    "print(yelp_df.shape)"
   ]
  },
  {
   "cell_type": "markdown",
   "metadata": {},
   "source": [
    "#### *The Yelp API has more information especially with regards to ratings, reviews, price etc.* I worked with fitness and college POIs, not restaurants, but a comparison of dataframe snippets are below."
   ]
  },
  {
   "cell_type": "markdown",
   "metadata": {},
   "source": [
    "The Yelp API gives 20 businesses for the first lat-lng pair while the Foursquare API yields 10; the Foursquare API gives more information on the location while the Yelp API gives more business-focused details."
   ]
  },
  {
   "cell_type": "code",
   "execution_count": 49,
   "metadata": {
    "tags": []
   },
   "outputs": [
    {
     "data": {
      "text/html": [
       "<div>\n",
       "<style scoped>\n",
       "    .dataframe tbody tr th:only-of-type {\n",
       "        vertical-align: middle;\n",
       "    }\n",
       "\n",
       "    .dataframe tbody tr th {\n",
       "        vertical-align: top;\n",
       "    }\n",
       "\n",
       "    .dataframe thead th {\n",
       "        text-align: right;\n",
       "    }\n",
       "</style>\n",
       "<table border=\"1\" class=\"dataframe\">\n",
       "  <thead>\n",
       "    <tr style=\"text-align: right;\">\n",
       "      <th></th>\n",
       "      <th>id</th>\n",
       "      <th>alias</th>\n",
       "      <th>name</th>\n",
       "      <th>image_url</th>\n",
       "      <th>is_closed</th>\n",
       "      <th>url</th>\n",
       "      <th>review_count</th>\n",
       "      <th>categories</th>\n",
       "      <th>rating</th>\n",
       "      <th>transactions</th>\n",
       "      <th>price</th>\n",
       "      <th>phone</th>\n",
       "      <th>display_phone</th>\n",
       "      <th>distance</th>\n",
       "      <th>coordinates.latitude</th>\n",
       "      <th>coordinates.longitude</th>\n",
       "      <th>location.address1</th>\n",
       "      <th>location.address2</th>\n",
       "      <th>location.address3</th>\n",
       "      <th>location.city</th>\n",
       "      <th>location.zip_code</th>\n",
       "      <th>location.country</th>\n",
       "      <th>location.state</th>\n",
       "      <th>location.display_address</th>\n",
       "    </tr>\n",
       "  </thead>\n",
       "  <tbody>\n",
       "    <tr>\n",
       "      <th>0</th>\n",
       "      <td>vUrTGX_7HxqeoQ_6QCVz6g</td>\n",
       "      <td>suraya-philadelphia-2</td>\n",
       "      <td>Suraya</td>\n",
       "      <td>https://s3-media1.fl.yelpcdn.com/bphoto/H6vumh...</td>\n",
       "      <td>False</td>\n",
       "      <td>https://www.yelp.com/biz/suraya-philadelphia-2...</td>\n",
       "      <td>1415</td>\n",
       "      <td>[{'alias': 'lebanese', 'title': 'Lebanese'}, {...</td>\n",
       "      <td>4.5</td>\n",
       "      <td>[delivery]</td>\n",
       "      <td>$$$</td>\n",
       "      <td>+12153021900</td>\n",
       "      <td>(215) 302-1900</td>\n",
       "      <td>197.629294</td>\n",
       "      <td>39.973687</td>\n",
       "      <td>-75.133956</td>\n",
       "      <td>1528 Frankford Ave</td>\n",
       "      <td></td>\n",
       "      <td>None</td>\n",
       "      <td>Philadelphia</td>\n",
       "      <td>19125</td>\n",
       "      <td>US</td>\n",
       "      <td>PA</td>\n",
       "      <td>[1528 Frankford Ave, Philadelphia, PA 19125]</td>\n",
       "    </tr>\n",
       "    <tr>\n",
       "      <th>1</th>\n",
       "      <td>u0Bt7uvvj7LAjAdiMtrhug</td>\n",
       "      <td>laser-wolf-philadelphia-2</td>\n",
       "      <td>Laser Wolf</td>\n",
       "      <td>https://s3-media1.fl.yelpcdn.com/bphoto/rGW-4F...</td>\n",
       "      <td>False</td>\n",
       "      <td>https://www.yelp.com/biz/laser-wolf-philadelph...</td>\n",
       "      <td>365</td>\n",
       "      <td>[{'alias': 'mideastern', 'title': 'Middle East...</td>\n",
       "      <td>4.5</td>\n",
       "      <td>[delivery]</td>\n",
       "      <td>$$$$</td>\n",
       "      <td></td>\n",
       "      <td></td>\n",
       "      <td>230.946802</td>\n",
       "      <td>39.970490</td>\n",
       "      <td>-75.136620</td>\n",
       "      <td>1301 N Howard St</td>\n",
       "      <td>None</td>\n",
       "      <td></td>\n",
       "      <td>Philadelphia</td>\n",
       "      <td>19122</td>\n",
       "      <td>US</td>\n",
       "      <td>PA</td>\n",
       "      <td>[1301 N Howard St, Philadelphia, PA 19122]</td>\n",
       "    </tr>\n",
       "    <tr>\n",
       "      <th>2</th>\n",
       "      <td>uJZgom8HpK74xz8IojpT0A</td>\n",
       "      <td>pizzeria-beddia-philadelphia</td>\n",
       "      <td>Pizzeria Beddia</td>\n",
       "      <td>https://s3-media1.fl.yelpcdn.com/bphoto/CltlyN...</td>\n",
       "      <td>False</td>\n",
       "      <td>https://www.yelp.com/biz/pizzeria-beddia-phila...</td>\n",
       "      <td>712</td>\n",
       "      <td>[{'alias': 'pizza', 'title': 'Pizza'}, {'alias...</td>\n",
       "      <td>4.0</td>\n",
       "      <td>[delivery]</td>\n",
       "      <td>$$</td>\n",
       "      <td>+12679282256</td>\n",
       "      <td>(267) 928-2256</td>\n",
       "      <td>135.990058</td>\n",
       "      <td>39.970799</td>\n",
       "      <td>-75.134989</td>\n",
       "      <td>1313 North Lee St</td>\n",
       "      <td></td>\n",
       "      <td></td>\n",
       "      <td>Philadelphia</td>\n",
       "      <td>19122</td>\n",
       "      <td>US</td>\n",
       "      <td>PA</td>\n",
       "      <td>[1313 North Lee St, Philadelphia, PA 19122]</td>\n",
       "    </tr>\n",
       "    <tr>\n",
       "      <th>3</th>\n",
       "      <td>hUmHwBQtGg0iH-PZakQJDw</td>\n",
       "      <td>wm-mulherins-sons-philadelphia</td>\n",
       "      <td>Wm Mulherin's Sons</td>\n",
       "      <td>https://s3-media3.fl.yelpcdn.com/bphoto/22EU-2...</td>\n",
       "      <td>False</td>\n",
       "      <td>https://www.yelp.com/biz/wm-mulherins-sons-phi...</td>\n",
       "      <td>709</td>\n",
       "      <td>[{'alias': 'pizza', 'title': 'Pizza'}, {'alias...</td>\n",
       "      <td>4.5</td>\n",
       "      <td>[delivery]</td>\n",
       "      <td>$$$</td>\n",
       "      <td>+12152911355</td>\n",
       "      <td>(215) 291-1355</td>\n",
       "      <td>57.439658</td>\n",
       "      <td>39.971710</td>\n",
       "      <td>-75.135063</td>\n",
       "      <td>1355 N Front St</td>\n",
       "      <td>None</td>\n",
       "      <td></td>\n",
       "      <td>Philadelphia</td>\n",
       "      <td>19122</td>\n",
       "      <td>US</td>\n",
       "      <td>PA</td>\n",
       "      <td>[1355 N Front St, Philadelphia, PA 19122]</td>\n",
       "    </tr>\n",
       "    <tr>\n",
       "      <th>4</th>\n",
       "      <td>HbnWgfnaX-kUobTx2QTWpQ</td>\n",
       "      <td>kalaya-philadelphia-7</td>\n",
       "      <td>Kalaya</td>\n",
       "      <td>https://s3-media4.fl.yelpcdn.com/bphoto/GXfcrf...</td>\n",
       "      <td>False</td>\n",
       "      <td>https://www.yelp.com/biz/kalaya-philadelphia-7...</td>\n",
       "      <td>198</td>\n",
       "      <td>[{'alias': 'thai', 'title': 'Thai'}]</td>\n",
       "      <td>4.0</td>\n",
       "      <td>[]</td>\n",
       "      <td>NaN</td>\n",
       "      <td>+12155452535</td>\n",
       "      <td>(215) 545-2535</td>\n",
       "      <td>427.347274</td>\n",
       "      <td>39.975510</td>\n",
       "      <td>-75.133000</td>\n",
       "      <td>4 W Palmer St</td>\n",
       "      <td>None</td>\n",
       "      <td></td>\n",
       "      <td>Philadelphia</td>\n",
       "      <td>19125</td>\n",
       "      <td>US</td>\n",
       "      <td>PA</td>\n",
       "      <td>[4 W Palmer St, Philadelphia, PA 19125]</td>\n",
       "    </tr>\n",
       "  </tbody>\n",
       "</table>\n",
       "</div>"
      ],
      "text/plain": [
       "                       id                           alias                name  \\\n",
       "0  vUrTGX_7HxqeoQ_6QCVz6g           suraya-philadelphia-2              Suraya   \n",
       "1  u0Bt7uvvj7LAjAdiMtrhug       laser-wolf-philadelphia-2          Laser Wolf   \n",
       "2  uJZgom8HpK74xz8IojpT0A    pizzeria-beddia-philadelphia     Pizzeria Beddia   \n",
       "3  hUmHwBQtGg0iH-PZakQJDw  wm-mulherins-sons-philadelphia  Wm Mulherin's Sons   \n",
       "4  HbnWgfnaX-kUobTx2QTWpQ           kalaya-philadelphia-7              Kalaya   \n",
       "\n",
       "                                           image_url  is_closed  \\\n",
       "0  https://s3-media1.fl.yelpcdn.com/bphoto/H6vumh...      False   \n",
       "1  https://s3-media1.fl.yelpcdn.com/bphoto/rGW-4F...      False   \n",
       "2  https://s3-media1.fl.yelpcdn.com/bphoto/CltlyN...      False   \n",
       "3  https://s3-media3.fl.yelpcdn.com/bphoto/22EU-2...      False   \n",
       "4  https://s3-media4.fl.yelpcdn.com/bphoto/GXfcrf...      False   \n",
       "\n",
       "                                                 url  review_count  \\\n",
       "0  https://www.yelp.com/biz/suraya-philadelphia-2...          1415   \n",
       "1  https://www.yelp.com/biz/laser-wolf-philadelph...           365   \n",
       "2  https://www.yelp.com/biz/pizzeria-beddia-phila...           712   \n",
       "3  https://www.yelp.com/biz/wm-mulherins-sons-phi...           709   \n",
       "4  https://www.yelp.com/biz/kalaya-philadelphia-7...           198   \n",
       "\n",
       "                                          categories  rating transactions  \\\n",
       "0  [{'alias': 'lebanese', 'title': 'Lebanese'}, {...     4.5   [delivery]   \n",
       "1  [{'alias': 'mideastern', 'title': 'Middle East...     4.5   [delivery]   \n",
       "2  [{'alias': 'pizza', 'title': 'Pizza'}, {'alias...     4.0   [delivery]   \n",
       "3  [{'alias': 'pizza', 'title': 'Pizza'}, {'alias...     4.5   [delivery]   \n",
       "4               [{'alias': 'thai', 'title': 'Thai'}]     4.0           []   \n",
       "\n",
       "  price         phone   display_phone    distance  coordinates.latitude  \\\n",
       "0   $$$  +12153021900  (215) 302-1900  197.629294             39.973687   \n",
       "1  $$$$                                230.946802             39.970490   \n",
       "2    $$  +12679282256  (267) 928-2256  135.990058             39.970799   \n",
       "3   $$$  +12152911355  (215) 291-1355   57.439658             39.971710   \n",
       "4   NaN  +12155452535  (215) 545-2535  427.347274             39.975510   \n",
       "\n",
       "   coordinates.longitude   location.address1 location.address2  \\\n",
       "0             -75.133956  1528 Frankford Ave                     \n",
       "1             -75.136620    1301 N Howard St              None   \n",
       "2             -75.134989   1313 North Lee St                     \n",
       "3             -75.135063     1355 N Front St              None   \n",
       "4             -75.133000       4 W Palmer St              None   \n",
       "\n",
       "  location.address3 location.city location.zip_code location.country  \\\n",
       "0              None  Philadelphia             19125               US   \n",
       "1                    Philadelphia             19122               US   \n",
       "2                    Philadelphia             19122               US   \n",
       "3                    Philadelphia             19122               US   \n",
       "4                    Philadelphia             19125               US   \n",
       "\n",
       "  location.state                      location.display_address  \n",
       "0             PA  [1528 Frankford Ave, Philadelphia, PA 19125]  \n",
       "1             PA    [1301 N Howard St, Philadelphia, PA 19122]  \n",
       "2             PA   [1313 North Lee St, Philadelphia, PA 19122]  \n",
       "3             PA     [1355 N Front St, Philadelphia, PA 19122]  \n",
       "4             PA       [4 W Palmer St, Philadelphia, PA 19125]  "
      ]
     },
     "execution_count": 49,
     "metadata": {},
     "output_type": "execute_result"
    }
   ],
   "source": [
    "pd.set_option('display.max_columns', None)\n",
    "yelp_df.head()"
   ]
  },
  {
   "cell_type": "code",
   "execution_count": 50,
   "metadata": {
    "tags": []
   },
   "outputs": [
    {
     "data": {
      "text/plain": [
       "location.address2           35.0\n",
       "location.address3           30.0\n",
       "price                       10.0\n",
       "id                           0.0\n",
       "distance                     0.0\n",
       "location.state               0.0\n",
       "location.country             0.0\n",
       "location.zip_code            0.0\n",
       "location.city                0.0\n",
       "location.address1            0.0\n",
       "coordinates.longitude        0.0\n",
       "coordinates.latitude         0.0\n",
       "display_phone                0.0\n",
       "alias                        0.0\n",
       "phone                        0.0\n",
       "transactions                 0.0\n",
       "rating                       0.0\n",
       "categories                   0.0\n",
       "review_count                 0.0\n",
       "url                          0.0\n",
       "is_closed                    0.0\n",
       "image_url                    0.0\n",
       "name                         0.0\n",
       "location.display_address     0.0\n",
       "dtype: float64"
      ]
     },
     "execution_count": 50,
     "metadata": {},
     "output_type": "execute_result"
    }
   ],
   "source": [
    "# percentage of missing values in each column\n",
    "round(100 * (yelp_df.isnull().sum()/len(yelp_df)),2).sort_values(ascending=False)"
   ]
  },
  {
   "cell_type": "code",
   "execution_count": 52,
   "metadata": {
    "tags": []
   },
   "outputs": [
    {
     "data": {
      "text/plain": [
       "6     15.0\n",
       "4     10.0\n",
       "0      5.0\n",
       "15     5.0\n",
       "3      5.0\n",
       "5      5.0\n",
       "7      5.0\n",
       "9      5.0\n",
       "1      5.0\n",
       "11     5.0\n",
       "12     5.0\n",
       "13     5.0\n",
       "18     0.0\n",
       "17     0.0\n",
       "16     0.0\n",
       "10     0.0\n",
       "14     0.0\n",
       "8      0.0\n",
       "2      0.0\n",
       "19     0.0\n",
       "dtype: float64"
      ]
     },
     "execution_count": 52,
     "metadata": {},
     "output_type": "execute_result"
    }
   ],
   "source": [
    "# percentage of missing values in each row\n",
    "round(100 * (yelp_df.isnull().sum(axis=1)/len(yelp_df)),2).sort_values(ascending=False)"
   ]
  },
  {
   "cell_type": "code",
   "execution_count": 65,
   "metadata": {
    "collapsed": true,
    "jupyter": {
     "outputs_hidden": true
    },
    "tags": []
   },
   "outputs": [
    {
     "data": {
      "text/html": [
       "<div>\n",
       "<style scoped>\n",
       "    .dataframe tbody tr th:only-of-type {\n",
       "        vertical-align: middle;\n",
       "    }\n",
       "\n",
       "    .dataframe tbody tr th {\n",
       "        vertical-align: top;\n",
       "    }\n",
       "\n",
       "    .dataframe thead th {\n",
       "        text-align: right;\n",
       "    }\n",
       "</style>\n",
       "<table border=\"1\" class=\"dataframe\">\n",
       "  <thead>\n",
       "    <tr style=\"text-align: right;\">\n",
       "      <th></th>\n",
       "      <th>fsq_id</th>\n",
       "      <th>categories</th>\n",
       "      <th>chains</th>\n",
       "      <th>distance</th>\n",
       "      <th>link</th>\n",
       "      <th>name</th>\n",
       "      <th>timezone</th>\n",
       "      <th>geocodes.main.latitude</th>\n",
       "      <th>geocodes.main.longitude</th>\n",
       "      <th>geocodes.roof.latitude</th>\n",
       "      <th>...</th>\n",
       "      <th>location.dma</th>\n",
       "      <th>location.formatted_address</th>\n",
       "      <th>location.locality</th>\n",
       "      <th>location.postcode</th>\n",
       "      <th>location.region</th>\n",
       "      <th>geocodes.drop_off.latitude</th>\n",
       "      <th>geocodes.drop_off.longitude</th>\n",
       "      <th>related_places.children</th>\n",
       "      <th>geocodes.front_door.latitude</th>\n",
       "      <th>geocodes.front_door.longitude</th>\n",
       "    </tr>\n",
       "  </thead>\n",
       "  <tbody>\n",
       "    <tr>\n",
       "      <th>0</th>\n",
       "      <td>56fb2e82498ec4440b0aa2e9</td>\n",
       "      <td>[{'id': 13009, 'name': 'Cocktail Bar', 'icon':...</td>\n",
       "      <td>[]</td>\n",
       "      <td>59</td>\n",
       "      <td>/v3/places/56fb2e82498ec4440b0aa2e9</td>\n",
       "      <td>Wm. Mulherin's Sons</td>\n",
       "      <td>America/New_York</td>\n",
       "      <td>39.971695</td>\n",
       "      <td>-75.134998</td>\n",
       "      <td>39.971695</td>\n",
       "      <td>...</td>\n",
       "      <td>Philadelphia</td>\n",
       "      <td>1355 N Front St, Philadelphia, PA 19122</td>\n",
       "      <td>Philadelphia</td>\n",
       "      <td>19122</td>\n",
       "      <td>PA</td>\n",
       "      <td>NaN</td>\n",
       "      <td>NaN</td>\n",
       "      <td>NaN</td>\n",
       "      <td>NaN</td>\n",
       "      <td>NaN</td>\n",
       "    </tr>\n",
       "    <tr>\n",
       "      <th>1</th>\n",
       "      <td>5427166a498e85a2c0b936b3</td>\n",
       "      <td>[{'id': 13034, 'name': 'Café', 'icon': {'prefi...</td>\n",
       "      <td>[]</td>\n",
       "      <td>83</td>\n",
       "      <td>/v3/places/5427166a498e85a2c0b936b3</td>\n",
       "      <td>La Colombe Coffee Roasters</td>\n",
       "      <td>America/New_York</td>\n",
       "      <td>39.971136</td>\n",
       "      <td>-75.134231</td>\n",
       "      <td>39.971136</td>\n",
       "      <td>...</td>\n",
       "      <td>Philadelphia</td>\n",
       "      <td>1335 Frankford Ave (btwn Mercer &amp; Master St), ...</td>\n",
       "      <td>Philadelphia</td>\n",
       "      <td>19125</td>\n",
       "      <td>PA</td>\n",
       "      <td>39.971139</td>\n",
       "      <td>-75.134416</td>\n",
       "      <td>NaN</td>\n",
       "      <td>NaN</td>\n",
       "      <td>NaN</td>\n",
       "    </tr>\n",
       "    <tr>\n",
       "      <th>2</th>\n",
       "      <td>5c958f5e2619ee002c1a8470</td>\n",
       "      <td>[{'id': 13064, 'name': 'Pizzeria', 'icon': {'p...</td>\n",
       "      <td>[]</td>\n",
       "      <td>155</td>\n",
       "      <td>/v3/places/5c958f5e2619ee002c1a8470</td>\n",
       "      <td>Pizzeria Beddia</td>\n",
       "      <td>America/New_York</td>\n",
       "      <td>39.970664</td>\n",
       "      <td>-75.135406</td>\n",
       "      <td>39.970664</td>\n",
       "      <td>...</td>\n",
       "      <td>Philadelphia</td>\n",
       "      <td>1313 N LEE St (btwn Master &amp; Thompson St), Phi...</td>\n",
       "      <td>Philadelphia</td>\n",
       "      <td>19125</td>\n",
       "      <td>PA</td>\n",
       "      <td>NaN</td>\n",
       "      <td>NaN</td>\n",
       "      <td>NaN</td>\n",
       "      <td>NaN</td>\n",
       "      <td>NaN</td>\n",
       "    </tr>\n",
       "    <tr>\n",
       "      <th>3</th>\n",
       "      <td>507ad324e4b0c101c709028d</td>\n",
       "      <td>[{'id': 13022, 'name': 'Sports Bar', 'icon': {...</td>\n",
       "      <td>[]</td>\n",
       "      <td>159</td>\n",
       "      <td>/v3/places/507ad324e4b0c101c709028d</td>\n",
       "      <td>Bottle Bar East</td>\n",
       "      <td>America/New_York</td>\n",
       "      <td>39.970528</td>\n",
       "      <td>-75.134752</td>\n",
       "      <td>39.970528</td>\n",
       "      <td>...</td>\n",
       "      <td>Philadelphia</td>\n",
       "      <td>1308 Frankford Ave (at Thompson St), Philadelp...</td>\n",
       "      <td>Philadelphia</td>\n",
       "      <td>19125</td>\n",
       "      <td>PA</td>\n",
       "      <td>39.970518</td>\n",
       "      <td>-75.134431</td>\n",
       "      <td>NaN</td>\n",
       "      <td>NaN</td>\n",
       "      <td>NaN</td>\n",
       "    </tr>\n",
       "    <tr>\n",
       "      <th>4</th>\n",
       "      <td>597397c3851de565cc92bc6d</td>\n",
       "      <td>[{'id': 13263, 'name': 'Japanese Restaurant', ...</td>\n",
       "      <td>[]</td>\n",
       "      <td>38</td>\n",
       "      <td>/v3/places/597397c3851de565cc92bc6d</td>\n",
       "      <td>Cheu Fishtown</td>\n",
       "      <td>America/New_York</td>\n",
       "      <td>39.972245</td>\n",
       "      <td>-75.134603</td>\n",
       "      <td>39.972245</td>\n",
       "      <td>...</td>\n",
       "      <td>Philadelphia</td>\n",
       "      <td>1416 Frankford Ave, Philadelphia, PA 19125</td>\n",
       "      <td>Philadelphia</td>\n",
       "      <td>19125</td>\n",
       "      <td>PA</td>\n",
       "      <td>39.972243</td>\n",
       "      <td>-75.134402</td>\n",
       "      <td>NaN</td>\n",
       "      <td>NaN</td>\n",
       "      <td>NaN</td>\n",
       "    </tr>\n",
       "  </tbody>\n",
       "</table>\n",
       "<p>5 rows × 25 columns</p>\n",
       "</div>"
      ],
      "text/plain": [
       "                     fsq_id  \\\n",
       "0  56fb2e82498ec4440b0aa2e9   \n",
       "1  5427166a498e85a2c0b936b3   \n",
       "2  5c958f5e2619ee002c1a8470   \n",
       "3  507ad324e4b0c101c709028d   \n",
       "4  597397c3851de565cc92bc6d   \n",
       "\n",
       "                                          categories chains  distance  \\\n",
       "0  [{'id': 13009, 'name': 'Cocktail Bar', 'icon':...     []        59   \n",
       "1  [{'id': 13034, 'name': 'Café', 'icon': {'prefi...     []        83   \n",
       "2  [{'id': 13064, 'name': 'Pizzeria', 'icon': {'p...     []       155   \n",
       "3  [{'id': 13022, 'name': 'Sports Bar', 'icon': {...     []       159   \n",
       "4  [{'id': 13263, 'name': 'Japanese Restaurant', ...     []        38   \n",
       "\n",
       "                                  link                        name  \\\n",
       "0  /v3/places/56fb2e82498ec4440b0aa2e9         Wm. Mulherin's Sons   \n",
       "1  /v3/places/5427166a498e85a2c0b936b3  La Colombe Coffee Roasters   \n",
       "2  /v3/places/5c958f5e2619ee002c1a8470             Pizzeria Beddia   \n",
       "3  /v3/places/507ad324e4b0c101c709028d             Bottle Bar East   \n",
       "4  /v3/places/597397c3851de565cc92bc6d               Cheu Fishtown   \n",
       "\n",
       "           timezone  geocodes.main.latitude  geocodes.main.longitude  \\\n",
       "0  America/New_York               39.971695               -75.134998   \n",
       "1  America/New_York               39.971136               -75.134231   \n",
       "2  America/New_York               39.970664               -75.135406   \n",
       "3  America/New_York               39.970528               -75.134752   \n",
       "4  America/New_York               39.972245               -75.134603   \n",
       "\n",
       "   geocodes.roof.latitude  ...  location.dma  \\\n",
       "0               39.971695  ...  Philadelphia   \n",
       "1               39.971136  ...  Philadelphia   \n",
       "2               39.970664  ...  Philadelphia   \n",
       "3               39.970528  ...  Philadelphia   \n",
       "4               39.972245  ...  Philadelphia   \n",
       "\n",
       "                          location.formatted_address location.locality  \\\n",
       "0            1355 N Front St, Philadelphia, PA 19122      Philadelphia   \n",
       "1  1335 Frankford Ave (btwn Mercer & Master St), ...      Philadelphia   \n",
       "2  1313 N LEE St (btwn Master & Thompson St), Phi...      Philadelphia   \n",
       "3  1308 Frankford Ave (at Thompson St), Philadelp...      Philadelphia   \n",
       "4         1416 Frankford Ave, Philadelphia, PA 19125      Philadelphia   \n",
       "\n",
       "  location.postcode location.region geocodes.drop_off.latitude  \\\n",
       "0             19122              PA                        NaN   \n",
       "1             19125              PA                  39.971139   \n",
       "2             19125              PA                        NaN   \n",
       "3             19125              PA                  39.970518   \n",
       "4             19125              PA                  39.972243   \n",
       "\n",
       "  geocodes.drop_off.longitude related_places.children  \\\n",
       "0                         NaN                     NaN   \n",
       "1                  -75.134416                     NaN   \n",
       "2                         NaN                     NaN   \n",
       "3                  -75.134431                     NaN   \n",
       "4                  -75.134402                     NaN   \n",
       "\n",
       "  geocodes.front_door.latitude geocodes.front_door.longitude  \n",
       "0                          NaN                           NaN  \n",
       "1                          NaN                           NaN  \n",
       "2                          NaN                           NaN  \n",
       "3                          NaN                           NaN  \n",
       "4                          NaN                           NaN  \n",
       "\n",
       "[5 rows x 25 columns]"
      ]
     },
     "execution_count": 65,
     "metadata": {},
     "output_type": "execute_result"
    }
   ],
   "source": [
    "fsq_df.head()"
   ]
  },
  {
   "cell_type": "code",
   "execution_count": 51,
   "metadata": {},
   "outputs": [
    {
     "data": {
      "text/plain": [
       "geocodes.front_door.longitude    90.0\n",
       "geocodes.front_door.latitude     90.0\n",
       "related_places.children          80.0\n",
       "geocodes.drop_off.longitude      30.0\n",
       "geocodes.drop_off.latitude       30.0\n",
       "location.country                  0.0\n",
       "location.region                   0.0\n",
       "location.postcode                 0.0\n",
       "location.locality                 0.0\n",
       "location.formatted_address        0.0\n",
       "location.dma                      0.0\n",
       "location.cross_street             0.0\n",
       "fsq_id                            0.0\n",
       "categories                        0.0\n",
       "location.address                  0.0\n",
       "geocodes.roof.longitude           0.0\n",
       "geocodes.roof.latitude            0.0\n",
       "geocodes.main.longitude           0.0\n",
       "geocodes.main.latitude            0.0\n",
       "timezone                          0.0\n",
       "name                              0.0\n",
       "link                              0.0\n",
       "distance                          0.0\n",
       "chains                            0.0\n",
       "location.census_block             0.0\n",
       "dtype: float64"
      ]
     },
     "execution_count": 51,
     "metadata": {},
     "output_type": "execute_result"
    }
   ],
   "source": [
    "# percentage of missing values in each column\n",
    "round(100 * (fsq_df.isnull().sum()/len(fsq_df)),2).sort_values(ascending=False)"
   ]
  },
  {
   "cell_type": "code",
   "execution_count": 53,
   "metadata": {
    "tags": []
   },
   "outputs": [
    {
     "data": {
      "text/plain": [
       "0    50.0\n",
       "2    50.0\n",
       "9    40.0\n",
       "1    30.0\n",
       "3    30.0\n",
       "4    30.0\n",
       "5    30.0\n",
       "8    30.0\n",
       "6    20.0\n",
       "7    10.0\n",
       "dtype: float64"
      ]
     },
     "execution_count": 53,
     "metadata": {},
     "output_type": "execute_result"
    }
   ],
   "source": [
    "# percentage of missing values in each row\n",
    "round(100 * (fsq_df.isnull().sum(axis=1)/len(fsq_df)),2).sort_values(ascending=False)"
   ]
  },
  {
   "cell_type": "markdown",
   "metadata": {},
   "source": [
    "The Foursquare data has more missing values in rows and columns compared to the Yelp data."
   ]
  },
  {
   "cell_type": "code",
   "execution_count": null,
   "metadata": {},
   "outputs": [],
   "source": []
  }
 ],
 "metadata": {
  "kernelspec": {
   "display_name": "Python 3 (ipykernel)",
   "language": "python",
   "name": "python3"
  },
  "language_info": {
   "codemirror_mode": {
    "name": "ipython",
    "version": 3
   },
   "file_extension": ".py",
   "mimetype": "text/x-python",
   "name": "python",
   "nbconvert_exporter": "python",
   "pygments_lexer": "ipython3",
   "version": "3.11.3"
  }
 },
 "nbformat": 4,
 "nbformat_minor": 4
}
