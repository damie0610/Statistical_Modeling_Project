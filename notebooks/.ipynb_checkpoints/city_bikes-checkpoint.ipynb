{
 "cells": [
  {
   "cell_type": "markdown",
   "metadata": {},
   "source": [
    "# CityBikes"
   ]
  },
  {
   "cell_type": "markdown",
   "metadata": {},
   "source": [
    "Send a request to CityBikes for the city of your choice. "
   ]
  },
  {
   "cell_type": "code",
   "execution_count": null,
   "metadata": {},
   "outputs": [],
   "source": [
    "import requests\n",
    "import json\n",
    "import os"
   ]
  },
  {
   "cell_type": "markdown",
   "metadata": {},
   "source": [
    "Through the information from *The Philadelphia Inquirer* (https://www.inquirer.com/news/worst-traffic-roads-philadelphia.html#:~:text=How%20to%20beat%20Philly%20traffic,avoid%20traffic%2C%20according%20to%20INRIX.), I noted that peak travel times are around 3 - 6pm in the afternoon (1 - 4pm here in Calgary).\n",
    "\n",
    "So I used a random time generator (https://www.random.org/clock-times/), inputed the start and end times, used the output - **2:30pm** - I placed my API call at that time, just for a slightly better picture of the usage.\n",
    "\n",
    "Using empty slots as an indicator for bike usage."
   ]
  },
  {
   "cell_type": "code",
   "execution_count": null,
   "metadata": {},
   "outputs": [],
   "source": [
    "base_url = \"http://api.citybik.es/v2/networks\"\n",
    "city_name = \"indego\"  # The network_id for Philadephia\n",
    "\n",
    "# Construct the URL for Philly network\n",
    "philly_url = f\"{base_url}/{city_name}\"\n",
    "\n",
    "# Make the API request\n",
    "response = requests.get(philly_url)\n",
    "response"
   ]
  },
  {
   "cell_type": "markdown",
   "metadata": {},
   "source": [
    "Parse through the response to get the details you want for the bike stations in that city (latitude, longitude, number of bikes). "
   ]
  },
  {
   "cell_type": "code",
   "execution_count": null,
   "metadata": {},
   "outputs": [],
   "source": [
    "philly = response.json()\n",
    "philly"
   ]
  },
  {
   "cell_type": "code",
   "execution_count": null,
   "metadata": {},
   "outputs": [],
   "source": [
    "json_file_path = 'philly.json'\n",
    "\n",
    "with open(json_file_path, 'w') as json_file:\n",
    "    json.dump(philly, json_file)"
   ]
  },
  {
   "cell_type": "code",
   "execution_count": null,
   "metadata": {},
   "outputs": [],
   "source": [
    "# Read philly JSON data from a file\n",
    "with open(\"philly.json\", \"r\") as json_file:\n",
    "    philly = json.load(json_file)"
   ]
  },
  {
   "cell_type": "markdown",
   "metadata": {},
   "source": [
    "Put your parsed results into a DataFrame."
   ]
  },
  {
   "cell_type": "code",
   "execution_count": null,
   "metadata": {},
   "outputs": [],
   "source": [
    "philly['network']['stations'][0].keys()"
   ]
  },
  {
   "cell_type": "code",
   "execution_count": null,
   "metadata": {},
   "outputs": [],
   "source": [
    "from pandas.io.json import json_normalize\n",
    "import pandas as pd\n",
    "\n",
    "df = json_normalize(philly['network']['stations'])\n",
    "df"
   ]
  },
  {
   "cell_type": "code",
   "execution_count": null,
   "metadata": {},
   "outputs": [],
   "source": [
    "selected_columns = ['name', 'empty_slots', 'free_bikes','latitude', 'longitude']\n",
    "ph_bikes = df.loc[:, selected_columns]\n",
    "ph_bikes"
   ]
  },
  {
   "cell_type": "code",
   "execution_count": null,
   "metadata": {},
   "outputs": [],
   "source": [
    "# Rename the index column to \"ID\"\n",
    "ph_bikes = ph_bikes.rename_axis(\"ID\").reset_index()\n",
    "ph_bikes.head()"
   ]
  },
  {
   "cell_type": "code",
   "execution_count": null,
   "metadata": {},
   "outputs": [],
   "source": [
    "csv_file_path = 'ph_bikes.csv'\n",
    "\n",
    "# Save the DataFrame to a CSV file\n",
    "ph_bikes.to_csv(csv_file_path, index=False)"
   ]
  },
  {
   "cell_type": "code",
   "execution_count": null,
   "metadata": {},
   "outputs": [],
   "source": [
    "# read in saved csv of philly bike stations.\n",
    "philly_df = pd.read_csv(\"ph_bikes.csv\")\n",
    "philly_df.info()"
   ]
  }
 ],
 "metadata": {
  "kernelspec": {
   "display_name": "Python 3 (ipykernel)",
   "language": "python",
   "name": "python3"
  },
  "language_info": {
   "codemirror_mode": {
    "name": "ipython",
    "version": 3
   },
   "file_extension": ".py",
   "mimetype": "text/x-python",
   "name": "python",
   "nbconvert_exporter": "python",
   "pygments_lexer": "ipython3",
   "version": "3.11.3"
  }
 },
 "nbformat": 4,
 "nbformat_minor": 4
}
