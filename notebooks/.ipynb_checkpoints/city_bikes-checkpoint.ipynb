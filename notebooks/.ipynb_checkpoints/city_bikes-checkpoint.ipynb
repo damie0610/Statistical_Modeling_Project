{
 "cells": [
  {
   "cell_type": "markdown",
   "metadata": {},
   "source": [
    "# CityBikes"
   ]
  },
  {
   "cell_type": "markdown",
   "metadata": {},
   "source": [
    "Send a request to CityBikes for the city of your choice. "
   ]
  },
  {
   "cell_type": "code",
   "execution_count": 2,
   "metadata": {},
   "outputs": [],
   "source": [
    "# Importing necessary libraries\n",
    "import pandas as pd\n",
    "import requests\n",
    "import json\n",
    "import os"
   ]
  },
  {
   "cell_type": "code",
   "execution_count": 3,
   "metadata": {
    "tags": []
   },
   "outputs": [],
   "source": [
    "# Accessing environmental variables\n",
    "yelp_key = os.environ.get('yelp_api')\n",
    "yelp_key2 = os.environ.get('yelp_api2')\n",
    "FOURSQUARE_KEY = os.environ.get('FOURSQUARE_API_KEY')"
   ]
  },
  {
   "cell_type": "markdown",
   "metadata": {},
   "source": [
    "Through the information from *The Philadelphia Inquirer* (https://www.inquirer.com/news/worst-traffic-roads-philadelphia.html#:~:text=How%20to%20beat%20Philly%20traffic,avoid%20traffic%2C%20according%20to%20INRIX.), I noted that peak travel times are around 3 - 6pm in the afternoon (1 - 4pm here in Calgary).\n",
    "\n",
    "So I used a random time generator (https://www.random.org/clock-times/), inputed the start and end times, used the output - **2:30pm** - I placed my API call at that time, just for a slightly better picture of the usage.\n",
    "\n",
    "Using empty slots as an indicator for bike usage."
   ]
  },
  {
   "cell_type": "code",
   "execution_count": 4,
   "metadata": {},
   "outputs": [
    {
     "data": {
      "text/plain": [
       "<Response [200]>"
      ]
     },
     "execution_count": 4,
     "metadata": {},
     "output_type": "execute_result"
    }
   ],
   "source": [
    "# Calling the API for Philadelphia City Bikes.\n",
    "base_url = \"http://api.citybik.es/v2/networks\"\n",
    "city_name = \"indego\"  # The network_id for Philadephia\n",
    "\n",
    "# Construct the URL for Philly network.\n",
    "philly_url = f\"{base_url}/{city_name}\"\n",
    "\n",
    "# Make the API request.\n",
    "response = requests.get(philly_url)\n",
    "response"
   ]
  },
  {
   "cell_type": "markdown",
   "metadata": {},
   "source": [
    "Parse through the response to get the details you want for the bike stations in that city (latitude, longitude, number of bikes). "
   ]
  },
  {
   "cell_type": "code",
   "execution_count": 5,
   "metadata": {
    "tags": []
   },
   "outputs": [],
   "source": [
    "philly = response.json()\n",
    "# philly"
   ]
  },
  {
   "cell_type": "code",
   "execution_count": 7,
   "metadata": {},
   "outputs": [],
   "source": [
    "# Saving the json to have a consistent file during analysis.\n",
    "json_file_path = 'philly.json'\n",
    "\n",
    "with open(json_file_path, 'w') as json_file:\n",
    "    json.dump(philly, json_file)"
   ]
  },
  {
   "cell_type": "code",
   "execution_count": 6,
   "metadata": {},
   "outputs": [],
   "source": [
    "# Read philly JSON data from a file\n",
    "with open(\"C:/Users/HP/Music/LHLDataCourse/Python/project_data/philly.json\", \"r\") as json_file:\n",
    "    philly = json.load(json_file)"
   ]
  },
  {
   "cell_type": "markdown",
   "metadata": {},
   "source": [
    "Put your parsed results into a DataFrame."
   ]
  },
  {
   "cell_type": "code",
   "execution_count": 7,
   "metadata": {},
   "outputs": [
    {
     "data": {
      "text/plain": [
       "dict_keys(['empty_slots', 'extra', 'free_bikes', 'id', 'latitude', 'longitude', 'name', 'timestamp'])"
      ]
     },
     "execution_count": 7,
     "metadata": {},
     "output_type": "execute_result"
    }
   ],
   "source": [
    "philly['network']['stations'][0].keys()"
   ]
  },
  {
   "cell_type": "code",
   "execution_count": 9,
   "metadata": {
    "tags": []
   },
   "outputs": [
    {
     "data": {
      "text/html": [
       "<div>\n",
       "<style scoped>\n",
       "    .dataframe tbody tr th:only-of-type {\n",
       "        vertical-align: middle;\n",
       "    }\n",
       "\n",
       "    .dataframe tbody tr th {\n",
       "        vertical-align: top;\n",
       "    }\n",
       "\n",
       "    .dataframe thead th {\n",
       "        text-align: right;\n",
       "    }\n",
       "</style>\n",
       "<table border=\"1\" class=\"dataframe\">\n",
       "  <thead>\n",
       "    <tr style=\"text-align: right;\">\n",
       "      <th></th>\n",
       "      <th>empty_slots</th>\n",
       "      <th>free_bikes</th>\n",
       "      <th>id</th>\n",
       "      <th>latitude</th>\n",
       "      <th>longitude</th>\n",
       "      <th>name</th>\n",
       "      <th>timestamp</th>\n",
       "      <th>extra.address</th>\n",
       "      <th>extra.last_updated</th>\n",
       "      <th>extra.rental_uris.android</th>\n",
       "      <th>extra.rental_uris.ios</th>\n",
       "      <th>extra.renting</th>\n",
       "      <th>extra.returning</th>\n",
       "      <th>extra.uid</th>\n",
       "    </tr>\n",
       "  </thead>\n",
       "  <tbody>\n",
       "    <tr>\n",
       "      <th>0</th>\n",
       "      <td>3</td>\n",
       "      <td>15</td>\n",
       "      <td>ebe10cb6ab4ac2abfb050a037fd21d22</td>\n",
       "      <td>39.93431</td>\n",
       "      <td>-75.16042</td>\n",
       "      <td>10th &amp; Federal</td>\n",
       "      <td>2023-09-08T20:24:39.824000Z</td>\n",
       "      <td>1201 S. 10th Street</td>\n",
       "      <td>1694204679</td>\n",
       "      <td>https://www.bcycle.com/applink?system_id=bcycl...</td>\n",
       "      <td>https://www.bcycle.com/applink?system_id=bcycl...</td>\n",
       "      <td>0</td>\n",
       "      <td>0</td>\n",
       "      <td>bcycle_indego_3098</td>\n",
       "    </tr>\n",
       "    <tr>\n",
       "      <th>1</th>\n",
       "      <td>13</td>\n",
       "      <td>6</td>\n",
       "      <td>5d8556ab318071bbb3d0eb310d1300cd</td>\n",
       "      <td>39.93401</td>\n",
       "      <td>-75.15094</td>\n",
       "      <td>4th &amp; Washington</td>\n",
       "      <td>2023-09-08T20:24:39.825000Z</td>\n",
       "      <td>1110 S. 4th Street</td>\n",
       "      <td>1694204679</td>\n",
       "      <td>https://www.bcycle.com/applink?system_id=bcycl...</td>\n",
       "      <td>https://www.bcycle.com/applink?system_id=bcycl...</td>\n",
       "      <td>1</td>\n",
       "      <td>1</td>\n",
       "      <td>bcycle_indego_3099</td>\n",
       "    </tr>\n",
       "    <tr>\n",
       "      <th>2</th>\n",
       "      <td>11</td>\n",
       "      <td>3</td>\n",
       "      <td>f639a03c6bc95cbf045611e736857e5f</td>\n",
       "      <td>39.99119</td>\n",
       "      <td>-75.17975</td>\n",
       "      <td>29th &amp; Dauphin</td>\n",
       "      <td>2023-09-08T20:24:39.827000Z</td>\n",
       "      <td>2301 N. 29th Street</td>\n",
       "      <td>1694204679</td>\n",
       "      <td>https://www.bcycle.com/applink?system_id=bcycl...</td>\n",
       "      <td>https://www.bcycle.com/applink?system_id=bcycl...</td>\n",
       "      <td>1</td>\n",
       "      <td>1</td>\n",
       "      <td>bcycle_indego_3096</td>\n",
       "    </tr>\n",
       "    <tr>\n",
       "      <th>3</th>\n",
       "      <td>6</td>\n",
       "      <td>11</td>\n",
       "      <td>37f346714d732902704277ff7c049d22</td>\n",
       "      <td>39.97888</td>\n",
       "      <td>-75.13339</td>\n",
       "      <td>Berks Station, MFL</td>\n",
       "      <td>2023-09-08T20:24:39.827000Z</td>\n",
       "      <td>1902 N. Front Street</td>\n",
       "      <td>1694204679</td>\n",
       "      <td>https://www.bcycle.com/applink?system_id=bcycl...</td>\n",
       "      <td>https://www.bcycle.com/applink?system_id=bcycl...</td>\n",
       "      <td>1</td>\n",
       "      <td>1</td>\n",
       "      <td>bcycle_indego_3097</td>\n",
       "    </tr>\n",
       "    <tr>\n",
       "      <th>4</th>\n",
       "      <td>3</td>\n",
       "      <td>1</td>\n",
       "      <td>7c87d0b867af6cc138c49ad20fd6a9cb</td>\n",
       "      <td>39.98837</td>\n",
       "      <td>-75.18701</td>\n",
       "      <td>33rd &amp; Diamond</td>\n",
       "      <td>2023-09-08T20:24:39.829000Z</td>\n",
       "      <td>2039 N. 33rd Street</td>\n",
       "      <td>1694204679</td>\n",
       "      <td>https://www.bcycle.com/applink?system_id=bcycl...</td>\n",
       "      <td>https://www.bcycle.com/applink?system_id=bcycl...</td>\n",
       "      <td>1</td>\n",
       "      <td>1</td>\n",
       "      <td>bcycle_indego_3093</td>\n",
       "    </tr>\n",
       "  </tbody>\n",
       "</table>\n",
       "</div>"
      ],
      "text/plain": [
       "   empty_slots  free_bikes                                id  latitude  \\\n",
       "0            3          15  ebe10cb6ab4ac2abfb050a037fd21d22  39.93431   \n",
       "1           13           6  5d8556ab318071bbb3d0eb310d1300cd  39.93401   \n",
       "2           11           3  f639a03c6bc95cbf045611e736857e5f  39.99119   \n",
       "3            6          11  37f346714d732902704277ff7c049d22  39.97888   \n",
       "4            3           1  7c87d0b867af6cc138c49ad20fd6a9cb  39.98837   \n",
       "\n",
       "   longitude                name                    timestamp  \\\n",
       "0  -75.16042      10th & Federal  2023-09-08T20:24:39.824000Z   \n",
       "1  -75.15094    4th & Washington  2023-09-08T20:24:39.825000Z   \n",
       "2  -75.17975      29th & Dauphin  2023-09-08T20:24:39.827000Z   \n",
       "3  -75.13339  Berks Station, MFL  2023-09-08T20:24:39.827000Z   \n",
       "4  -75.18701      33rd & Diamond  2023-09-08T20:24:39.829000Z   \n",
       "\n",
       "          extra.address  extra.last_updated  \\\n",
       "0   1201 S. 10th Street          1694204679   \n",
       "1    1110 S. 4th Street          1694204679   \n",
       "2   2301 N. 29th Street          1694204679   \n",
       "3  1902 N. Front Street          1694204679   \n",
       "4   2039 N. 33rd Street          1694204679   \n",
       "\n",
       "                           extra.rental_uris.android  \\\n",
       "0  https://www.bcycle.com/applink?system_id=bcycl...   \n",
       "1  https://www.bcycle.com/applink?system_id=bcycl...   \n",
       "2  https://www.bcycle.com/applink?system_id=bcycl...   \n",
       "3  https://www.bcycle.com/applink?system_id=bcycl...   \n",
       "4  https://www.bcycle.com/applink?system_id=bcycl...   \n",
       "\n",
       "                               extra.rental_uris.ios  extra.renting  \\\n",
       "0  https://www.bcycle.com/applink?system_id=bcycl...              0   \n",
       "1  https://www.bcycle.com/applink?system_id=bcycl...              1   \n",
       "2  https://www.bcycle.com/applink?system_id=bcycl...              1   \n",
       "3  https://www.bcycle.com/applink?system_id=bcycl...              1   \n",
       "4  https://www.bcycle.com/applink?system_id=bcycl...              1   \n",
       "\n",
       "   extra.returning           extra.uid  \n",
       "0                0  bcycle_indego_3098  \n",
       "1                1  bcycle_indego_3099  \n",
       "2                1  bcycle_indego_3096  \n",
       "3                1  bcycle_indego_3097  \n",
       "4                1  bcycle_indego_3093  "
      ]
     },
     "execution_count": 9,
     "metadata": {},
     "output_type": "execute_result"
    }
   ],
   "source": [
    "# Normalize into a DataFrame.\n",
    "from pandas.io.json import json_normalize\n",
    "import pandas as pd\n",
    "\n",
    "df = pd.json_normalize(philly['network']['stations'])\n",
    "df.head()"
   ]
  },
  {
   "cell_type": "code",
   "execution_count": 10,
   "metadata": {
    "tags": []
   },
   "outputs": [
    {
     "data": {
      "text/html": [
       "<div>\n",
       "<style scoped>\n",
       "    .dataframe tbody tr th:only-of-type {\n",
       "        vertical-align: middle;\n",
       "    }\n",
       "\n",
       "    .dataframe tbody tr th {\n",
       "        vertical-align: top;\n",
       "    }\n",
       "\n",
       "    .dataframe thead th {\n",
       "        text-align: right;\n",
       "    }\n",
       "</style>\n",
       "<table border=\"1\" class=\"dataframe\">\n",
       "  <thead>\n",
       "    <tr style=\"text-align: right;\">\n",
       "      <th></th>\n",
       "      <th>name</th>\n",
       "      <th>empty_slots</th>\n",
       "      <th>free_bikes</th>\n",
       "      <th>latitude</th>\n",
       "      <th>longitude</th>\n",
       "    </tr>\n",
       "  </thead>\n",
       "  <tbody>\n",
       "    <tr>\n",
       "      <th>0</th>\n",
       "      <td>10th &amp; Federal</td>\n",
       "      <td>3</td>\n",
       "      <td>15</td>\n",
       "      <td>39.93431</td>\n",
       "      <td>-75.16042</td>\n",
       "    </tr>\n",
       "    <tr>\n",
       "      <th>1</th>\n",
       "      <td>4th &amp; Washington</td>\n",
       "      <td>13</td>\n",
       "      <td>6</td>\n",
       "      <td>39.93401</td>\n",
       "      <td>-75.15094</td>\n",
       "    </tr>\n",
       "    <tr>\n",
       "      <th>2</th>\n",
       "      <td>29th &amp; Dauphin</td>\n",
       "      <td>11</td>\n",
       "      <td>3</td>\n",
       "      <td>39.99119</td>\n",
       "      <td>-75.17975</td>\n",
       "    </tr>\n",
       "    <tr>\n",
       "      <th>3</th>\n",
       "      <td>Berks Station, MFL</td>\n",
       "      <td>6</td>\n",
       "      <td>11</td>\n",
       "      <td>39.97888</td>\n",
       "      <td>-75.13339</td>\n",
       "    </tr>\n",
       "    <tr>\n",
       "      <th>4</th>\n",
       "      <td>33rd &amp; Diamond</td>\n",
       "      <td>3</td>\n",
       "      <td>1</td>\n",
       "      <td>39.98837</td>\n",
       "      <td>-75.18701</td>\n",
       "    </tr>\n",
       "  </tbody>\n",
       "</table>\n",
       "</div>"
      ],
      "text/plain": [
       "                 name  empty_slots  free_bikes  latitude  longitude\n",
       "0      10th & Federal            3          15  39.93431  -75.16042\n",
       "1    4th & Washington           13           6  39.93401  -75.15094\n",
       "2      29th & Dauphin           11           3  39.99119  -75.17975\n",
       "3  Berks Station, MFL            6          11  39.97888  -75.13339\n",
       "4      33rd & Diamond            3           1  39.98837  -75.18701"
      ]
     },
     "execution_count": 10,
     "metadata": {},
     "output_type": "execute_result"
    }
   ],
   "source": [
    "# Select the needed columns into a working file.\n",
    "selected_columns = ['name', 'empty_slots', 'free_bikes','latitude', 'longitude']\n",
    "\n",
    "ph_bikes = df.loc[:, selected_columns]\n",
    "ph_bikes.head()"
   ]
  },
  {
   "cell_type": "code",
   "execution_count": 11,
   "metadata": {
    "tags": []
   },
   "outputs": [],
   "source": [
    "# Rename the index column to \"ID\" to aid with joining later\n",
    "ph_bikes = ph_bikes.rename_axis(\"ID\").reset_index()\n",
    "# ph_bikes.head()"
   ]
  },
  {
   "cell_type": "code",
   "execution_count": 12,
   "metadata": {},
   "outputs": [],
   "source": [
    "csv_file_path = 'ph_bikes.csv'\n",
    "\n",
    "# Save the DataFrame to a CSV file\n",
    "ph_bikes.to_csv(csv_file_path, index=False)"
   ]
  },
  {
   "cell_type": "code",
   "execution_count": 13,
   "metadata": {},
   "outputs": [
    {
     "name": "stdout",
     "output_type": "stream",
     "text": [
      "<class 'pandas.core.frame.DataFrame'>\n",
      "RangeIndex: 233 entries, 0 to 232\n",
      "Data columns (total 6 columns):\n",
      " #   Column       Non-Null Count  Dtype  \n",
      "---  ------       --------------  -----  \n",
      " 0   ID           233 non-null    int64  \n",
      " 1   name         233 non-null    object \n",
      " 2   empty_slots  233 non-null    int64  \n",
      " 3   free_bikes   233 non-null    int64  \n",
      " 4   latitude     233 non-null    float64\n",
      " 5   longitude    233 non-null    float64\n",
      "dtypes: float64(2), int64(3), object(1)\n",
      "memory usage: 11.1+ KB\n"
     ]
    }
   ],
   "source": [
    "# read in saved csv of philly bike stations.\n",
    "philly_df = pd.read_csv(\"C:/Users/HP/Music/LHLDataCourse/Python/project_data/ph_bikes.csv\")\n",
    "philly_df.info()"
   ]
  },
  {
   "cell_type": "code",
   "execution_count": null,
   "metadata": {},
   "outputs": [],
   "source": []
  }
 ],
 "metadata": {
  "kernelspec": {
   "display_name": "Python 3 (ipykernel)",
   "language": "python",
   "name": "python3"
  },
  "language_info": {
   "codemirror_mode": {
    "name": "ipython",
    "version": 3
   },
   "file_extension": ".py",
   "mimetype": "text/x-python",
   "name": "python",
   "nbconvert_exporter": "python",
   "pygments_lexer": "ipython3",
   "version": "3.11.3"
  }
 },
 "nbformat": 4,
 "nbformat_minor": 4
}
